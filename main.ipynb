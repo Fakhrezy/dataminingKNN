{
 "cells": [
  {
   "cell_type": "markdown",
   "metadata": {},
   "source": [
    "Import library yang digunakan "
   ]
  },
  {
   "cell_type": "code",
   "execution_count": 30,
   "metadata": {},
   "outputs": [],
   "source": [
    "# Importing necessary libraries\n",
    "import pandas as pd\n",
    "from sklearn.model_selection import train_test_split\n",
    "from sklearn.neighbors import KNeighborsClassifier\n",
    "from sklearn.preprocessing import LabelEncoder\n",
    "from sklearn.impute import SimpleImputer\n",
    "from sklearn.metrics import accuracy_score\n",
    "import numpy as np\n",
    "import math\n"
   ]
  },
  {
   "cell_type": "markdown",
   "metadata": {},
   "source": [
    "# 1. Menampilkan Data dari Excel\n"
   ]
  },
  {
   "cell_type": "code",
   "execution_count": 2,
   "metadata": {},
   "outputs": [
    {
     "name": "stdout",
     "output_type": "stream",
     "text": [
      "### Data dari Excel:\n",
      "     Tinggi Badan  Berat Badan  % Lemak  Sistolik  Diastolik  Detak Jantung  Lengan Atas  Lengan Bawah  Lingkar Perut  Lingkar Panggul Status Gizi\n",
      "0          163.0         59.0     25.4     102.0       68.0           69.0         23.0          14.0           74.0             94.0      Normal\n",
      "1          170.0        125.0     42.9     133.0       73.0           79.0         40.0          19.0          112.0            135.0    Obesitas\n",
      "2          172.0         75.0     31.0     114.0       79.0           86.0         26.0          16.0           79.0            100.0      Normal\n",
      "3          166.0         58.0     19.0     128.0       69.0           69.0         26.0          16.0           72.0             92.0      Normal\n",
      "4          167.0         50.0     16.5     111.0       80.0           89.0         21.0          13.0           71.0             88.0       Kurus\n",
      "5          168.0         50.0     10.4     100.0       72.0           97.0         23.0          14.0           62.0             87.0       Kurus\n",
      "6          173.0         56.0     18.4     114.0       73.0           62.0         24.0          15.0           66.0             93.0      Normal\n",
      "7          168.0         73.0     22.7     107.0       73.0           81.0         30.0          18.0           77.0             96.0      Normal\n",
      "8          177.0         60.0     17.4     107.0       71.0          104.0         24.0          15.0           71.0             90.0      Normal\n",
      "9          168.0         52.0     13.9     122.0       81.0          101.0         22.0          15.0           68.0             84.0       Kurus\n",
      "10         159.0         58.0     23.4     118.0       75.0           64.0         26.0          15.0           70.0             85.0      Normal\n",
      "11         167.0         75.0     30.7     126.0       81.0           65.0         30.0          16.0           91.0            103.0    Obesitas\n",
      "12         170.0         72.0     26.1     113.0       72.0           83.0         28.0          16.0           85.0             98.0      Normal\n",
      "13         172.0         68.0     22.8     110.0       65.0           68.0         27.0          15.0           79.0             94.0      Normal\n",
      "14         165.0         73.0     29.1     105.0       67.0           75.0         28.0          18.0           83.0            100.0    Obesitas\n",
      "15         169.5         55.0     15.2     112.0       77.0           70.0         22.0          14.0           75.0             92.0       Kurus\n",
      "16         160.0         54.0     15.7     138.0      104.0           78.0         27.0          15.0           73.0             86.0      Normal\n",
      "17         173.0         56.0     17.9     120.0        6.0           97.0         25.0          14.0           72.0             88.0      Normal\n",
      "18         162.0         54.0     18.0     108.0       70.0           76.0         14.0          15.0           71.0             88.0      Normal\n",
      "19         169.0         79.0     22.0     123.0       76.0           70.0         29.0          17.0           84.0            101.0    Obesitas\n",
      "24         175.0         67.0     23.0      97.0       67.0           79.0         25.0          15.0           75.0             96.0           ? \n",
      "\n"
     ]
    }
   ],
   "source": [
    "# Path to the Excel file\n",
    "file_path = r\"data uji.xlsx\"\n",
    "\n",
    "# Read data from Excel\n",
    "df = pd.read_excel(file_path, sheet_name=\"Sheet1\")\n",
    "\n",
    "# Convert necessary columns to numeric\n",
    "kolom_numerik = [\n",
    "    \"Tinggi Badan\",\n",
    "    \"Berat Badan\",\n",
    "    \"% Lemak\",\n",
    "    \"Sistolik\",\n",
    "    \"Diastolik\",\n",
    "    \"Detak Jantung\",\n",
    "    \"Lengan Atas\",\n",
    "    \"Lengan Bawah\",\n",
    "    \"Lingkar Perut\",\n",
    "    \"Lingkar Panggul\",\n",
    "]\n",
    "for kolom in kolom_numerik:\n",
    "    df[kolom] = pd.to_numeric(df[kolom], errors=\"coerce\")\n",
    "\n",
    "# Drop rows with NaN values\n",
    "df = df.dropna()\n",
    "\n",
    "# Tampilkan data dari Excel\n",
    "print(\"### Data dari Excel:\\n\", df.to_string(), \"\\n\")\n"
   ]
  },
  {
   "cell_type": "markdown",
   "metadata": {},
   "source": [
    "# 2. Menghitung Jarak Euclidean\n"
   ]
  },
  {
   "cell_type": "code",
   "execution_count": 11,
   "metadata": {},
   "outputs": [
    {
     "name": "stdout",
     "output_type": "stream",
     "text": [
      "\n",
      "### Hasil Perhitungan Jarak (Euclidean Distance)\n",
      "Data 1\n",
      "dis = sqrt((Tinggi Badan - 175)^2 + (Berat Badan - 67)^2 + (% Lemak - 23)^2 + (Sistolik - 97)^2 + (Diastolik - 67)^2 + (Detak Jantung - 79)^2 + (Lengan Atas - 25)^2 + (Lengan Bawah - 15)^2 + (Lingkar Perut - 75)^2 + (Lingkar Panggul - 95)^2) = 18.62\n",
      "\n",
      "Data 2\n",
      "dis = sqrt((Tinggi Badan - 175)^2 + (Berat Badan - 67)^2 + (% Lemak - 23)^2 + (Sistolik - 97)^2 + (Diastolik - 67)^2 + (Detak Jantung - 79)^2 + (Lengan Atas - 25)^2 + (Lengan Bawah - 15)^2 + (Lingkar Perut - 75)^2 + (Lingkar Panggul - 95)^2) = 91.25\n",
      "\n",
      "Data 3\n",
      "dis = sqrt((Tinggi Badan - 175)^2 + (Berat Badan - 67)^2 + (% Lemak - 23)^2 + (Sistolik - 97)^2 + (Diastolik - 67)^2 + (Detak Jantung - 79)^2 + (Lengan Atas - 25)^2 + (Lengan Bawah - 15)^2 + (Lingkar Perut - 75)^2 + (Lingkar Panggul - 95)^2) = 25.73\n",
      "\n",
      "Data 4\n",
      "dis = sqrt((Tinggi Badan - 175)^2 + (Berat Badan - 67)^2 + (% Lemak - 23)^2 + (Sistolik - 97)^2 + (Diastolik - 67)^2 + (Detak Jantung - 79)^2 + (Lengan Atas - 25)^2 + (Lengan Bawah - 15)^2 + (Lingkar Perut - 75)^2 + (Lingkar Panggul - 95)^2) = 35.54\n",
      "\n",
      "Data 5\n",
      "dis = sqrt((Tinggi Badan - 175)^2 + (Berat Badan - 67)^2 + (% Lemak - 23)^2 + (Sistolik - 97)^2 + (Diastolik - 67)^2 + (Detak Jantung - 79)^2 + (Lengan Atas - 25)^2 + (Lengan Bawah - 15)^2 + (Lingkar Perut - 75)^2 + (Lingkar Panggul - 95)^2) = 30.74\n",
      "\n",
      "Data 6\n",
      "dis = sqrt((Tinggi Badan - 175)^2 + (Berat Badan - 67)^2 + (% Lemak - 23)^2 + (Sistolik - 97)^2 + (Diastolik - 67)^2 + (Detak Jantung - 79)^2 + (Lengan Atas - 25)^2 + (Lengan Bawah - 15)^2 + (Lingkar Perut - 75)^2 + (Lingkar Panggul - 95)^2) = 33.06\n",
      "\n",
      "Data 7\n",
      "dis = sqrt((Tinggi Badan - 175)^2 + (Berat Badan - 67)^2 + (% Lemak - 23)^2 + (Sistolik - 97)^2 + (Diastolik - 67)^2 + (Detak Jantung - 79)^2 + (Lengan Atas - 25)^2 + (Lengan Bawah - 15)^2 + (Lingkar Perut - 75)^2 + (Lingkar Panggul - 95)^2) = 29.09\n",
      "\n",
      "Data 8\n",
      "dis = sqrt((Tinggi Badan - 175)^2 + (Berat Badan - 67)^2 + (% Lemak - 23)^2 + (Sistolik - 97)^2 + (Diastolik - 67)^2 + (Detak Jantung - 79)^2 + (Lengan Atas - 25)^2 + (Lengan Bawah - 15)^2 + (Lingkar Perut - 75)^2 + (Lingkar Panggul - 95)^2) = 16.25\n",
      "\n",
      "Data 9\n",
      "dis = sqrt((Tinggi Badan - 175)^2 + (Berat Badan - 67)^2 + (% Lemak - 23)^2 + (Sistolik - 97)^2 + (Diastolik - 67)^2 + (Detak Jantung - 79)^2 + (Lengan Atas - 25)^2 + (Lengan Bawah - 15)^2 + (Lingkar Perut - 75)^2 + (Lingkar Panggul - 95)^2) = 29.45\n",
      "\n",
      "Data 10\n",
      "dis = sqrt((Tinggi Badan - 175)^2 + (Berat Badan - 67)^2 + (% Lemak - 23)^2 + (Sistolik - 97)^2 + (Diastolik - 67)^2 + (Detak Jantung - 79)^2 + (Lengan Atas - 25)^2 + (Lengan Bawah - 15)^2 + (Lingkar Perut - 75)^2 + (Lingkar Panggul - 95)^2) = 42.90\n",
      "\n",
      "Data 11\n",
      "dis = sqrt((Tinggi Badan - 175)^2 + (Berat Badan - 67)^2 + (% Lemak - 23)^2 + (Sistolik - 97)^2 + (Diastolik - 67)^2 + (Detak Jantung - 79)^2 + (Lengan Atas - 25)^2 + (Lengan Bawah - 15)^2 + (Lingkar Perut - 75)^2 + (Lingkar Panggul - 95)^2) = 34.54\n",
      "\n",
      "Data 12\n",
      "dis = sqrt((Tinggi Badan - 175)^2 + (Berat Badan - 67)^2 + (% Lemak - 23)^2 + (Sistolik - 97)^2 + (Diastolik - 67)^2 + (Detak Jantung - 79)^2 + (Lengan Atas - 25)^2 + (Lengan Bawah - 15)^2 + (Lingkar Perut - 75)^2 + (Lingkar Panggul - 95)^2) = 42.03\n",
      "\n",
      "Data 13\n",
      "dis = sqrt((Tinggi Badan - 175)^2 + (Berat Badan - 67)^2 + (% Lemak - 23)^2 + (Sistolik - 97)^2 + (Diastolik - 67)^2 + (Detak Jantung - 79)^2 + (Lengan Atas - 25)^2 + (Lengan Bawah - 15)^2 + (Lingkar Perut - 75)^2 + (Lingkar Panggul - 95)^2) = 21.81\n",
      "\n",
      "Data 14\n",
      "dis = sqrt((Tinggi Badan - 175)^2 + (Berat Badan - 67)^2 + (% Lemak - 23)^2 + (Sistolik - 97)^2 + (Diastolik - 67)^2 + (Detak Jantung - 79)^2 + (Lengan Atas - 25)^2 + (Lengan Bawah - 15)^2 + (Lingkar Perut - 75)^2 + (Lingkar Panggul - 95)^2) = 18.03\n",
      "\n",
      "Data 15\n",
      "dis = sqrt((Tinggi Badan - 175)^2 + (Berat Badan - 67)^2 + (% Lemak - 23)^2 + (Sistolik - 97)^2 + (Diastolik - 67)^2 + (Detak Jantung - 79)^2 + (Lengan Atas - 25)^2 + (Lengan Bawah - 15)^2 + (Lingkar Perut - 75)^2 + (Lingkar Panggul - 95)^2) = 18.98\n",
      "\n",
      "Data 16\n",
      "dis = sqrt((Tinggi Badan - 175)^2 + (Berat Badan - 67)^2 + (% Lemak - 23)^2 + (Sistolik - 97)^2 + (Diastolik - 67)^2 + (Detak Jantung - 79)^2 + (Lengan Atas - 25)^2 + (Lengan Bawah - 15)^2 + (Lingkar Perut - 75)^2 + (Lingkar Panggul - 95)^2) = 25.69\n",
      "\n",
      "Data 17\n",
      "dis = sqrt((Tinggi Badan - 175)^2 + (Berat Badan - 67)^2 + (% Lemak - 23)^2 + (Sistolik - 97)^2 + (Diastolik - 67)^2 + (Detak Jantung - 79)^2 + (Lengan Atas - 25)^2 + (Lengan Bawah - 15)^2 + (Lingkar Perut - 75)^2 + (Lingkar Panggul - 95)^2) = 59.89\n",
      "\n",
      "Data 18\n",
      "dis = sqrt((Tinggi Badan - 175)^2 + (Berat Badan - 67)^2 + (% Lemak - 23)^2 + (Sistolik - 97)^2 + (Diastolik - 67)^2 + (Detak Jantung - 79)^2 + (Lengan Atas - 25)^2 + (Lengan Bawah - 15)^2 + (Lingkar Perut - 75)^2 + (Lingkar Panggul - 95)^2) = 69.17\n",
      "\n",
      "Data 19\n",
      "dis = sqrt((Tinggi Badan - 175)^2 + (Berat Badan - 67)^2 + (% Lemak - 23)^2 + (Sistolik - 97)^2 + (Diastolik - 67)^2 + (Detak Jantung - 79)^2 + (Lengan Atas - 25)^2 + (Lengan Bawah - 15)^2 + (Lingkar Perut - 75)^2 + (Lingkar Panggul - 95)^2) = 26.23\n",
      "\n",
      "Data 20\n",
      "dis = sqrt((Tinggi Badan - 175)^2 + (Berat Badan - 67)^2 + (% Lemak - 23)^2 + (Sistolik - 97)^2 + (Diastolik - 67)^2 + (Detak Jantung - 79)^2 + (Lengan Atas - 25)^2 + (Lengan Bawah - 15)^2 + (Lingkar Perut - 75)^2 + (Lingkar Panggul - 95)^2) = 34.00\n",
      "\n"
     ]
    }
   ],
   "source": [
    "# Step 3: Preprocess the data\n",
    "le = LabelEncoder()\n",
    "df[\"Status Gizi Terencoded\"] = le.fit_transform(df[\"Status Gizi\"])\n",
    "\n",
    "# Features (X) and target (y)\n",
    "X = df.drop(columns=[\"Status Gizi\", \"Status Gizi Terencoded\"])\n",
    "y = df[\"Status Gizi Terencoded\"]\n",
    "\n",
    "# Define the new data point (referensi)\n",
    "referensi = {\n",
    "    \"Tinggi Badan\": 175,\n",
    "    \"Berat Badan\": 67,\n",
    "    \"% Lemak\": 23,\n",
    "    \"Sistolik\": 97,\n",
    "    \"Diastolik\": 67,\n",
    "    \"Detak Jantung\": 79,\n",
    "    \"Lengan Atas\": 25,\n",
    "    \"Lengan Bawah\": 15,\n",
    "    \"Lingkar Perut\": 75,\n",
    "    \"Lingkar Panggul\": 95,\n",
    "}\n",
    "\n",
    "# Fungsi untuk menghitung Euclidean Distance\n",
    "def jarak_euclidean(baris, ref):\n",
    "    jarak = 0\n",
    "    for kolom in ref.keys():\n",
    "        jarak += (baris[kolom] - ref[kolom]) ** 2\n",
    "    return math.sqrt(jarak)\n",
    "\n",
    "# Menghitung Jarak (Euclidean Distance) untuk 20 data pertama\n",
    "df[\"Jarak Euclidean\"] = df.iloc[:20].apply(jarak_euclidean, ref=referensi, axis=1)\n",
    "\n",
    "# Menampilkan hasil perhitungan jarak\n",
    "print(\"\\n### Hasil Perhitungan Jarak (Euclidean Distance)\")\n",
    "for i, baris in df.iloc[:20].iterrows():\n",
    "    print(\n",
    "        f\"Data {i+1}\\n\"\n",
    "        f\"dis = sqrt((Tinggi Badan - {referensi['Tinggi Badan']})^2 + \"\n",
    "        f\"(Berat Badan - {referensi['Berat Badan']})^2 + \"\n",
    "        f\"(% Lemak - {referensi['% Lemak']})^2 + \"\n",
    "        f\"(Sistolik - {referensi['Sistolik']})^2 + \"\n",
    "        f\"(Diastolik - {referensi['Diastolik']})^2 + \"\n",
    "        f\"(Detak Jantung - {referensi['Detak Jantung']})^2 + \"\n",
    "        f\"(Lengan Atas - {referensi['Lengan Atas']})^2 + \"\n",
    "        f\"(Lengan Bawah - {referensi['Lengan Bawah']})^2 + \"\n",
    "        f\"(Lingkar Perut - {referensi['Lingkar Perut']})^2 + \"\n",
    "        f\"(Lingkar Panggul - {referensi['Lingkar Panggul']})^2) = {baris['Jarak Euclidean']:.2f}\\n\"\n",
    "    )"
   ]
  },
  {
   "cell_type": "markdown",
   "metadata": {},
   "source": [
    "# 3. Mengurutkan Data Berdasarkan Jarak Euclidean\n"
   ]
  },
  {
   "cell_type": "code",
   "execution_count": 22,
   "metadata": {},
   "outputs": [
    {
     "name": "stdout",
     "output_type": "stream",
     "text": [
      "\n",
      "### Data yang Diurutkan Berdasarkan Jarak Euclidean (Terkecil ke Terbesar):\n",
      "    Jarak Euclidean Status Gizi\n",
      "7         16.250846      Normal\n",
      "13        18.028866      Normal\n",
      "0         18.621493      Normal\n",
      "14        18.979199    Obesitas\n",
      "12        21.808485      Normal\n",
      "15        25.692217       Kurus\n",
      "2         25.729361      Normal\n",
      "18        26.229754      Normal\n",
      "6         29.088829      Normal\n",
      "8         29.450976      Normal\n",
      "4         30.744918       Kurus\n",
      "5         33.056921       Kurus\n",
      "19        34.000000    Obesitas\n",
      "10        34.542148      Normal\n",
      "3         35.538711      Normal\n",
      "11        42.027253    Obesitas\n",
      "9         42.904662       Kurus\n",
      "16        59.893990      Normal\n",
      "17        69.166538      Normal\n",
      "1         91.252452    Obesitas\n"
     ]
    }
   ],
   "source": [
    "# Mengurutkan data berdasarkan Jarak Euclidean dari terkecil ke terbesar\n",
    "df_sorted = df.iloc[:20].sort_values(by=\"Jarak Euclidean\")\n",
    "\n",
    "# Menampilkan data yang telah diurutkan\n",
    "print(\"\\n### Data yang Diurutkan Berdasarkan Jarak Euclidean (Terkecil ke Terbesar):\")\n",
    "print(df_sorted[[\"Jarak Euclidean\", \"Status Gizi\"]])\n"
   ]
  },
  {
   "cell_type": "markdown",
   "metadata": {},
   "source": [
    "# 4. Mengklasifikasikan Kelas Berdasarkan Data yang Termasuk ke dalam Tetangga dengan k=3\n"
   ]
  },
  {
   "cell_type": "code",
   "execution_count": 29,
   "metadata": {},
   "outputs": [
    {
     "name": "stdout",
     "output_type": "stream",
     "text": [
      "\n",
      "Status Gizi yang diprediksi untuk data baru adalah: Normal\n",
      "Akurasi model: 40.00%\n"
     ]
    }
   ],
   "source": [
    "# Impute missing values\n",
    "imputer = SimpleImputer(strategy='mean')\n",
    "X_imputed = imputer.fit_transform(X)\n",
    "\n",
    "# Train-test split with imputed data\n",
    "X_latih, X_uji, y_latih, y_uji = train_test_split(X_imputed, y, test_size=0.2, random_state=42)\n",
    "\n",
    "# Step 8: KNN model training\n",
    "knn = KNeighborsClassifier(n_neighbors=3)\n",
    "knn.fit(X_latih, y_latih)\n",
    "\n",
    "# Step 9: Predict the new data point\n",
    "prediksi = knn.predict(\n",
    "    [list(referensi.values())]\n",
    ")  # Ubah referensi ke list untuk prediksi\n",
    "prediksi_label = le.inverse_transform(prediksi)\n",
    "print(f\"\\nStatus Gizi yang diprediksi untuk data baru adalah: {prediksi_label[0]}\")\n",
    "\n",
    "# Step 10: Evaluate the model (optional)\n",
    "y_pred = knn.predict(X_uji)\n",
    "\n",
    "# Calculate accuracy\n",
    "y_pred = knn.predict(X_uji)\n",
    "akurasi = accuracy_score(y_uji, y_pred)\n",
    "print(f\"Akurasi model: {akurasi * 100:.2f}%\")\n"
   ]
  }
 ],
 "metadata": {
  "kernelspec": {
   "display_name": "Python 3",
   "language": "python",
   "name": "python3"
  },
  "language_info": {
   "codemirror_mode": {
    "name": "ipython",
    "version": 3
   },
   "file_extension": ".py",
   "mimetype": "text/x-python",
   "name": "python",
   "nbconvert_exporter": "python",
   "pygments_lexer": "ipython3",
   "version": "3.11.9"
  }
 },
 "nbformat": 4,
 "nbformat_minor": 2
}
